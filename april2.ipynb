{
 "cells": [
  {
   "cell_type": "markdown",
   "metadata": {},
   "source": [
    "pipeline stuff pls"
   ]
  },
  {
   "cell_type": "code",
   "execution_count": 1,
   "metadata": {},
   "outputs": [],
   "source": [
    "import tensorflow as tf\n",
    "import pathlib\n",
    "import os\n",
    "import matplotlib.pyplot as plt\n",
    "import pandas as pd\n",
    "import numpy as np\n",
    "from extras import *\n",
    "from tqdm import tqdm\n",
    "\n",
    "np.set_printoptions(precision=4)"
   ]
  },
  {
   "cell_type": "code",
   "execution_count": 2,
   "metadata": {},
   "outputs": [
    {
     "name": "stdout",
     "output_type": "stream",
     "text": [
      "['abstract-expressionism', 'action-painting', 'analytical-cubism', 'art-nouveau-modern', 'baroque', 'color-field-painting', 'contemporary-realism', 'cubism', 'early-renaissance', 'expressionism', 'fauvism', 'high-renaissance', 'impressionism', 'mannerism-late-renaissance', 'minimalism', 'na-ve-art-primitivism', 'new-realism', 'northern-renaissance', 'pointillism', 'pop-art', 'post-impressionism', 'realism', 'rococo', 'romanticism', 'symbolism', 'synthetic-cubism', 'ukiyo-e']\n"
     ]
    }
   ],
   "source": [
    "mypath=os.path.join(os.getcwd(),'wikiartimages/stylematrices')\n",
    "print(os.listdir(mypath))"
   ]
  },
  {
   "cell_type": "code",
   "execution_count": 3,
   "metadata": {},
   "outputs": [
    {
     "data": {
      "text/plain": [
       "['high-renaissance',\n",
       " 'early-renaissance',\n",
       " 'northern-renaissance',\n",
       " 'mannerism-late-renaissance']"
      ]
     },
     "execution_count": 3,
     "metadata": {},
     "output_type": "execute_result"
    }
   ],
   "source": [
    "renn_genres"
   ]
  },
  {
   "cell_type": "code",
   "execution_count": 4,
   "metadata": {},
   "outputs": [],
   "source": [
    "def dataset_limited(genres,limit=10,shuffle=True):\n",
    "    np_arrs={'block1_conv1':[],'block2_conv1':[],'block3_conv1':[],'block4_conv1':[],'block5_conv1':[]}\n",
    "    labels=[]\n",
    "    for genre in genres:\n",
    "        mypath=os.path.join(os.getcwd(),'wikiartimages/stylematrices/'+genre)\n",
    "        files= [f for f in os.listdir(mypath) if f.endswith('.npz')]\n",
    "        if shuffle is True:\n",
    "            np.random.shuffle(files)\n",
    "        for file in tqdm(files[:limit]):\n",
    "            npz=np.load(os.path.join(mypath,file))\n",
    "            for k in npz.keys():\n",
    "                np_arrs[k].append(npz[k])\n",
    "            labels.append(genre)\n",
    "    matrices=(np_arrs['block1_conv1'],np_arrs['block2_conv1'],np_arrs['block3_conv1'],np_arrs['block4_conv1'],np_arrs['block5_conv1'])\n",
    "    return tf.data.Dataset.from_tensor_slices((labels,matrices))"
   ]
  },
  {
   "cell_type": "code",
   "execution_count": 5,
   "metadata": {},
   "outputs": [
    {
     "name": "stderr",
     "output_type": "stream",
     "text": [
      "100%|██████████████████████████████████████████████████████████████████████████████████| 10/10 [00:00<00:00, 24.75it/s]\n",
      "100%|██████████████████████████████████████████████████████████████████████████████████| 10/10 [00:00<00:00, 12.04it/s]\n",
      "100%|██████████████████████████████████████████████████████████████████████████████████| 10/10 [00:00<00:00, 26.31it/s]\n",
      "100%|██████████████████████████████████████████████████████████████████████████████████| 10/10 [00:00<00:00, 25.77it/s]\n"
     ]
    }
   ],
   "source": [
    "d=dataset_limited(renn_genres)"
   ]
  },
  {
   "cell_type": "code",
   "execution_count": 6,
   "metadata": {},
   "outputs": [
    {
     "data": {
      "text/plain": [
       "<TensorSliceDataset shapes: ((), ((1, 64, 64), (1, 128, 128), (1, 256, 256), (1, 512, 512), (1, 512, 512))), types: (tf.string, (tf.float32, tf.float32, tf.float32, tf.float32, tf.float32))>"
      ]
     },
     "execution_count": 6,
     "metadata": {},
     "output_type": "execute_result"
    }
   ],
   "source": [
    "d"
   ]
  },
  {
   "cell_type": "code",
   "execution_count": 7,
   "metadata": {},
   "outputs": [
    {
     "data": {
      "text/plain": [
       "[PhysicalDevice(name='/physical_device:CPU:0', device_type='CPU')]"
      ]
     },
     "execution_count": 7,
     "metadata": {},
     "output_type": "execute_result"
    }
   ],
   "source": [
    "tf.config.experimental.list_physical_devices('CPU')"
   ]
  },
  {
   "cell_type": "code",
   "execution_count": 8,
   "metadata": {},
   "outputs": [],
   "source": [
    "def dataset_all(genres,shuffle=True):\n",
    "    np_arrs={'block1_conv1':[],'block2_conv1':[],'block3_conv1':[],'block4_conv1':[],'block5_conv1':[]}\n",
    "    labels=[]\n",
    "    for genre in genres:\n",
    "        mypath=os.path.join(os.getcwd(),'wikiartimages/stylematrices/'+genre)\n",
    "        files= [f for f in os.listdir(mypath) if f.endswith('.npz')]\n",
    "        if shuffle is True:\n",
    "            np.random.shuffle(files)\n",
    "        for file in tqdm(files):\n",
    "            npz=np.load(os.path.join(mypath,file))\n",
    "            for k in npz.keys():\n",
    "                np_arrs[k].append(npz[k])\n",
    "            labels.append(genre)\n",
    "    matrices=(np_arrs['block1_conv1'],np_arrs['block2_conv1'],np_arrs['block3_conv1'],np_arrs['block4_conv1'],np_arrs['block5_conv1'])\n",
    "    return tf.data.Dataset.from_tensor_slices((labels,matrices))"
   ]
  },
  {
   "cell_type": "code",
   "execution_count": 9,
   "metadata": {},
   "outputs": [],
   "source": [
    "#d=dataset_all(['baroque'])"
   ]
  },
  {
   "cell_type": "code",
   "execution_count": 14,
   "metadata": {},
   "outputs": [],
   "source": [
    "def dataset_limited(genres,limit=10,shuffle=True):\n",
    "    np_arrs={s:[] for s in style_blocks}\n",
    "    labels=[]\n",
    "    for genre in genres:\n",
    "        mypath=os.path.join(os.getcwd(),'wikiartimages/stylematrices/'+genre)\n",
    "        files= [f for f in os.listdir(mypath) if f.endswith('.npz')]\n",
    "        if shuffle is True:\n",
    "            np.random.shuffle(files)\n",
    "        for file in tqdm(files[:limit]):\n",
    "            npz=np.load(os.path.join(mypath,file))\n",
    "            for k in npz.keys():\n",
    "                np_arrs[k].append(npz[k])\n",
    "            labels.append(genre)\n",
    "    matrices=tuple([np_arrs[s] for s in style_blocks])\n",
    "    return tf.data.Dataset.from_tensor_slices((labels,matrices))"
   ]
  },
  {
   "cell_type": "code",
   "execution_count": 15,
   "metadata": {},
   "outputs": [
    {
     "name": "stderr",
     "output_type": "stream",
     "text": [
      "100%|██████████████████████████████████████████████████████████████████████████████████| 10/10 [00:00<00:00, 22.94it/s]\n",
      "100%|██████████████████████████████████████████████████████████████████████████████████| 10/10 [00:00<00:00, 23.00it/s]\n",
      "100%|██████████████████████████████████████████████████████████████████████████████████| 10/10 [00:00<00:00, 22.24it/s]\n",
      "100%|██████████████████████████████████████████████████████████████████████████████████| 10/10 [00:00<00:00, 23.76it/s]\n"
     ]
    }
   ],
   "source": [
    "d=dataset_limited(renn_genres)"
   ]
  },
  {
   "cell_type": "code",
   "execution_count": null,
   "metadata": {},
   "outputs": [],
   "source": []
  }
 ],
 "metadata": {
  "kernelspec": {
   "display_name": "Python 3",
   "language": "python",
   "name": "python3"
  },
  "language_info": {
   "codemirror_mode": {
    "name": "ipython",
    "version": 3
   },
   "file_extension": ".py",
   "mimetype": "text/x-python",
   "name": "python",
   "nbconvert_exporter": "python",
   "pygments_lexer": "ipython3",
   "version": "3.8.2"
  }
 },
 "nbformat": 4,
 "nbformat_minor": 4
}
